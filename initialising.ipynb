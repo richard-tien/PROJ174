{
 "cells": [
  {
   "cell_type": "code",
   "execution_count": null,
   "metadata": {
    "collapsed": true
   },
   "outputs": [],
   "source": [
    "import pandas as pd\n",
    "import matplotlib.pyplot as plt\n",
    "import scipy.stats as stats\n",
    "import seaborn as sns\n",
    "import os\n",
    "from matplotlib.backends.backend_pdf import PdfPages\n",
    "import matplotlib.style as style\n",
    "%matplotlib inline"
   ]
  },
  {
   "cell_type": "code",
   "execution_count": null,
   "metadata": {
    "collapsed": true
   },
   "outputs": [],
   "source": [
    "THRESHOLD = False\n",
    "\n",
    "MAX_EXP_THRESHOLD = 3.0\n",
    "\n",
    "OUTPUT_DIR = \"output/%s-mm-threshold/\" % THRESHOLD\n",
    "if not os.path.exists(\"output/%s-mm-threshold/\" % THRESHOLD):\n",
    "    os.mkdir(OUTPUT_DIR)\n",
    "    os.mkdir(os.path.join(OUTPUT_DIR, \"histograms\"))\n",
    "    os.mkdir(os.path.join(OUTPUT_DIR, \"boxplots\"))\n",
    "    os.mkdir(os.path.join(OUTPUT_DIR, \"tables\"))\n",
    "\n",
    "ANTIMERES = ['13-23', '14-24', '15-25', '16-26', '17-27',\\\n",
    "            '33-43', '34-44', '35-45', '36-46', '37-47']\n",
    "antimere_dict = {\n",
    "    '13-23': 'Upper Canine',\n",
    "    '14-24': 'Upper 1st Premolar',\n",
    "    '15-25': 'Upper 2nd Premolar',\n",
    "    '16-26': 'Upper 1st Molar',\n",
    "    '17-27': 'Upper 2nd Molar',\n",
    "    '33-43': 'Lower Canine',\n",
    "    '34-44': 'Lower 1st Premolar',\n",
    "    '35-45': 'Lower 2nd Premolar',\n",
    "    '36-46': 'Lower 1st Molar',\n",
    "    '37-47': 'Lower 2nd Molar'\n",
    "}\n",
    "\n",
    "MEASURE_TYPES = ['.cc', '.ctd', '.ct', '.gm']\n",
    "measure_type_dict = {\n",
    "    '.cc':'ClinCheck',\n",
    "    '.ctd':'Centroid',\n",
    "    '.ct':'Cusp Tip',\n",
    "    '.gm': 'Gingival Margin'\n",
    "}"
   ]
  },
  {
   "cell_type": "code",
   "execution_count": null,
   "metadata": {
    "collapsed": true
   },
   "outputs": [],
   "source": [
    "df = pd.read_csv(\"master-spreadsheet.csv\",index_col=\"Patient ID\", skiprows=1)\n",
    "# removing all cases with maximum predicted expansion below threshold\n",
    "df = df[(df['Max(4,5,6) Mx Exp'] >= MAX_EXP_THRESHOLD) & (df['Include?'] == 'Y')]"
   ]
  },
  {
   "cell_type": "code",
   "execution_count": null,
   "metadata": {
    "collapsed": true
   },
   "outputs": [],
   "source": [
    "def percentAccuracy(row, antimere, measure_type):\n",
    "    '''Given a row with \"xx-xxi\", \"xx-xxp\", \"xx-xxf\" columns for\n",
    "    initial, predicted, and final arch widths across antimeres\n",
    "    \"xx-xx\" (e.g. 13-23), returns the % of predicted expansion achieved.\n",
    "    \n",
    "    Antimere must be in the form '1x-2x' or '3x-4x'\n",
    "    \n",
    "    These antimeres also have suffix measure_type that is\n",
    "    .cc, .ctd, .ct, .gm depending on how they were measured\n",
    "    (ClinCheck archwidth, centroid, cusp tip, gingival margin)\n",
    "    \n",
    "    Note that is technically NOT accuracy, since\n",
    "    if f > p, then 'accuracy' will be >100%.\n",
    "    It is better described as % of predicted expansion achieved.\n",
    "\n",
    "    Returns None if predicted expansion = 0'''\n",
    "    \n",
    "    predWidth = row[antimere+'p'+measure_type]\n",
    "    achWidth = row[antimere+'f'+measure_type]\n",
    "    initWidth = row[antimere+'i'+measure_type]\n",
    "    \n",
    "    predExp =  predWidth - initWidth\n",
    "    achExp =  achWidth - initWidth\n",
    "    \n",
    "    if 0 in [predExp, predWidth, achWidth, initWidth]:\n",
    "        return None\n",
    "    return 100*achExp/predExp\n",
    "\n",
    "def predictedExp(row, antimere, measure_type):\n",
    "    '''Returns predicted expansion for a given row, antimere, measure type'''\n",
    "    predWidth = row[antimere+'p'+measure_type]\n",
    "    initWidth = row[antimere+'i'+measure_type]\n",
    "    if predWidth == 0 or initWidth == 0:\n",
    "        return None\n",
    "    # assert(predWidth != initWidth)\n",
    "    return predWidth - initWidth\n",
    "\n",
    "def achievedExp(row, antimere, measure_type):\n",
    "    '''Returns predicted expansion for a given row, antimere, measure type'''\n",
    "    achWidth = row[antimere+'f'+measure_type]\n",
    "    initWidth = row[antimere+'i'+measure_type]\n",
    "    if initWidth == 0 or achWidth == 0:\n",
    "        return None\n",
    "    # assert(predWidth != initWidth)\n",
    "    return achWidth - initWidth\n",
    "\n",
    "def getColumn(df, column_name, antimere, threshold, measure_type, aligner_material):\n",
    "    '''Returns Series of specified parameters.\n",
    "    NB: If no threshold desired, set threshold = False, NOT threshold = 0.'''\n",
    "    \n",
    "    if aligner_material != False:\n",
    "        df = df[df['Aligner Material'] == aligner_material]\n",
    "    if type(threshold) == bool and threshold == False:\n",
    "        return df[column_name]\n",
    "    return df[df['pΔ%s%s' % (antimere, measure_type)] > threshold][column_name]\n",
    "\n",
    "def getSubDf(df, measure_type, threshold, aligner_material):\n",
    "    '''Returns a df with specified measure_type, aligner_material, and\n",
    "    above predicted expansion threshold only'''\n",
    "    cols = []\n",
    "    for antimere in ANTIMERES:\n",
    "        if measure_type == '.cc' and '7' in antimere:\n",
    "            continue\n",
    "        col = getColumn(df, '%s%s %%acc' % (antimere, measure_type), antimere, threshold, measure_type, aligner_material)    \n",
    "        cols.append(col)\n",
    "    return pd.concat(cols, axis=1)"
   ]
  },
  {
   "cell_type": "code",
   "execution_count": null,
   "metadata": {
    "collapsed": true
   },
   "outputs": [],
   "source": [
    "'''Data cleaning & processing; see comments.'''\n",
    "for antimere in ANTIMERES:\n",
    "    # Ensure all xx-xxipf columns are type float\n",
    "    for measure_type in MEASURE_TYPES:\n",
    "        if measure_type == '.cc' and '7' in antimere:\n",
    "            continue\n",
    "\n",
    "        df[antimere+'i'+measure_type].astype(float)\n",
    "        df[antimere+'p'+measure_type].astype(float)\n",
    "        df[antimere+'f'+measure_type].astype(float)\n",
    "\n",
    "        # Create 'xx-xx %acc' column for each antimere\n",
    "        full_antimere = antimere + measure_type\n",
    "        df['%s %%acc' % full_antimere] = df.apply(lambda row: percentAccuracy(row, antimere, measure_type), axis=1)\n",
    "\n",
    "        # Create 'pΔxx-xx.xx' & 'aΔxx-xx.xx' column for each antimere/measure type\n",
    "        df['pΔ%s' % full_antimere] = df.apply(lambda row: predictedExp(row, antimere, measure_type), axis=1)\n",
    "        df['aΔ%s' % full_antimere] = df.apply(lambda row: achievedExp(row, antimere, measure_type), axis=1)\n",
    "\n",
    "LD30 = df[df['Aligner Material'] == 'LD30']\n",
    "EX30 = df[df['Aligner Material'] == 'EX30']"
   ]
  },
  {
   "cell_type": "code",
   "execution_count": null,
   "metadata": {
    "collapsed": true
   },
   "outputs": [],
   "source": []
  }
 ],
 "metadata": {
  "kernelspec": {
   "display_name": "Python 3",
   "language": "python",
   "name": "python3"
  },
  "language_info": {
   "codemirror_mode": {
    "name": "ipython",
    "version": 3
   },
   "file_extension": ".py",
   "mimetype": "text/x-python",
   "name": "python",
   "nbconvert_exporter": "python",
   "pygments_lexer": "ipython3",
   "version": "3.6.1"
  }
 },
 "nbformat": 4,
 "nbformat_minor": 2
}
