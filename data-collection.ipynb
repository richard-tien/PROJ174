{
 "cells": [
  {
   "cell_type": "code",
   "execution_count": 1,
   "metadata": {
    "collapsed": true
   },
   "outputs": [],
   "source": [
    "txPlan1 = '''Arch Width (mm) - Manev, Nikolco\n",
    "\tTeeth\tInitial\tAlign Final\t\tStage 0\t\n",
    "Upper\t1.3 − 2.3\t31.9\t35.8\t+3.9\t31.9\t0.0\n",
    "\t1.4 − 2.4\t32.4\t37.8\t+5.4\t32.4\t0.0\n",
    "\t1.5 − 2.5\t36.0\t42.7\t+6.7\t36.0\t0.0\n",
    "\t1.6 − 2.6\t42.8\t47.0\t+4.2\t42.8\t0.0\n",
    "\t\t\t\t\t\t\n",
    "Lower\t4.3 − 3.3\t22.8\t28.0\t+5.2\t22.8\t0.0\n",
    "\t4.4 − 3.4\t28.3\t33.6\t+5.3\t28.3\t0.0\n",
    "\t4.5 − 3.5\t31.6\t38.5\t+6.9\t31.6\t0.0\n",
    "\t4.6 − 3.6\t39.9\t44.3\t+4.4\t39.9\t0.0\n",
    "'''\n",
    "\n",
    "txPlan2 = '''Arch Width (mm) - Van Der Stadt, Ashlea\n",
    "\tTeeth\tInitial\tAlign Final\t\tStage 0\t\n",
    "Upper\t1.3 − 2.3\t36.3\t36.4\t+0.1\t36.3\t0.0\n",
    "\t1.4 − 2.4\t36.4\t36.5\t+0.1\t36.4\t0.0\n",
    "\t1.5 − 2.5\t41.4\t41.3\t-0.1\t41.4\t0.0\n",
    "\t1.6 − 2.6\t45.7\t45.7\t0.0\t45.7\t0.0\n",
    "\t\t\t\t\t\t\n",
    "Lower\t4.3 − 3.3\t27.8\t28.0\t+0.2\t27.8\t0.0\n",
    "\t4.4 − 3.4\t33.5\t33.2\t-0.3\t33.5\t0.0\n",
    "\t4.5 − 3.5\t37.5\t37.5\t0.0\t37.5\t0.0\n",
    "\t4.6 − 3.6\t43.8\t43.5\t-0.3\t43.8\t0.0\n",
    "'''\n",
    "\n",
    "surname1 = txPlan1.split('\\n')[0].split(' ')[-2]\n",
    "surname2 = txPlan2.split('\\n')[0].split(' ')[-2]\n",
    "name1 = txPlan1.split('\\n')[0].split(' ')[-1]\n",
    "name2 = txPlan2.split('\\n')[0].split(' ')[-1]\n",
    "\n",
    "assert(surname1 == surname2)\n",
    "assert(name1 == name2)\n",
    "assert(txPlan2 != txPlan1)\n",
    "\n",
    "def getData(s):\n",
    "    l = s.split('\\n')\n",
    "    for i in range(len(l)):\n",
    "        l[i] = l[i].split('\\t')\n",
    "\n",
    "    Mx3 = [l[2][2], l[2][3], l[2][4]]\n",
    "    Mx4 = [l[3][2], l[3][3], l[3][4]]\n",
    "    Mx5 = [l[4][2], l[4][3], l[4][4]]\n",
    "    Mx6 = [l[5][2], l[5][3], l[5][4]]\n",
    "\n",
    "    Md3 = [l[7][2], l[7][3], l[7][4]]\n",
    "    Md4 = [l[8][2], l[8][3], l[8][4]]\n",
    "    Md5 = [l[9][2], l[9][3], l[9][4]]\n",
    "    Md6 = [l[10][2], l[10][3], l[10][4]]\n",
    "    return [Mx3, Mx4, Mx5, Mx6, Md3, Md4, Md5, Md6]"
   ]
  },
  {
   "cell_type": "code",
   "execution_count": 2,
   "metadata": {
    "collapsed": true
   },
   "outputs": [],
   "source": [
    "toothMvmts1 = getData(txPlan1)\n",
    "toothMvmts2 = getData(txPlan2)"
   ]
  },
  {
   "cell_type": "code",
   "execution_count": 3,
   "metadata": {
    "collapsed": true
   },
   "outputs": [],
   "source": [
    "def listToTabString(iTooth, fTooth):\n",
    "    '''for a single tooth, will return string\n",
    "    'i p f pΔ' separated by \\t\n",
    "    '''\n",
    "    return \"%s\\t%s\\t%s\\t%s\" % (iTooth[0], iTooth[1], fTooth[0], iTooth[2])"
   ]
  },
  {
   "cell_type": "code",
   "execution_count": 4,
   "metadata": {},
   "outputs": [
    {
     "data": {
      "text/plain": [
       "'32.4\\t36.6\\t36.3\\t+4.2\\t33.2\\t36.8\\t36.4\\t+3.6\\t38.7\\t41.3\\t41.4\\t+2.6\\t44.7\\t45.3\\t45.7\\t+0.6\\t26.3\\t27.8\\t27.8\\t+1.5\\t30.0\\t33.2\\t33.5\\t+3.2\\t35.7\\t36.9\\t37.5\\t+1.2\\t43.5\\t42.5\\t43.8\\t-1.0'"
      ]
     },
     "execution_count": 4,
     "metadata": {},
     "output_type": "execute_result"
    }
   ],
   "source": [
    "s = ''\n",
    "for tm1, tm2 in zip(toothMvmts1, toothMvmts2):\n",
    "    s+= listToTabString(tm1, tm2) + '\\t'\n",
    "s.strip()"
   ]
  },
  {
   "cell_type": "code",
   "execution_count": 5,
   "metadata": {
    "scrolled": true
   },
   "outputs": [
    {
     "name": "stdout",
     "output_type": "stream",
     "text": [
      "32.4\t36.6\t36.3\t+4.2\t33.2\t36.8\t36.4\t+3.6\t38.7\t41.3\t41.4\t+2.6\t44.7\t45.3\t45.7\t+0.6\t26.3\t27.8\t27.8\t+1.5\t30.0\t33.2\t33.5\t+3.2\t35.7\t36.9\t37.5\t+1.2\t43.5\t42.5\t43.8\t-1.0\t\n"
     ]
    }
   ],
   "source": [
    "print(s)"
   ]
  }
 ],
 "metadata": {
  "kernelspec": {
   "display_name": "Python 3",
   "language": "python",
   "name": "python3"
  },
  "language_info": {
   "codemirror_mode": {
    "name": "ipython",
    "version": 3
   },
   "file_extension": ".py",
   "mimetype": "text/x-python",
   "name": "python",
   "nbconvert_exporter": "python",
   "pygments_lexer": "ipython3",
   "version": "3.6.1"
  }
 },
 "nbformat": 4,
 "nbformat_minor": 2
}
